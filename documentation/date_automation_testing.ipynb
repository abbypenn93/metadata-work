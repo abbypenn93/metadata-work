{
 "cells": [
  {
   "cell_type": "markdown",
   "metadata": {},
   "source": [
    "# Testing ways to automate date parsing \n",
    "\n",
    "We currently make machine-readable(ish) dates in the `YYYY-MM-DD` form for \"Begin Date\" and \"End Date\". When they are of a common form, these dates are relatively easily generated. However, like all the metadata we're provided, it's not in a consistent form. This notebook will explore tools like the Python package `datefinder` to see if it can help our common use cases "
   ]
  },
  {
   "cell_type": "markdown",
   "metadata": {},
   "source": [
    "## First up: `datefinder` \n",
    "The first package we'll try out is `datefinder`, so let's import it"
   ]
  },
  {
   "cell_type": "code",
   "execution_count": 65,
   "metadata": {},
   "outputs": [],
   "source": [
    "import datefinder"
   ]
  },
  {
   "cell_type": "markdown",
   "metadata": {},
   "source": [
    "We don't know anything about `datefinder` beyond its sparse [documentation](https://datefinder.readthedocs.io/en/latest/) about one function, `find_dates()`. Let's read it! "
   ]
  },
  {
   "cell_type": "code",
   "execution_count": 34,
   "metadata": {},
   "outputs": [
    {
     "name": "stdout",
     "output_type": "stream",
     "text": [
      "Help on function find_dates in module datefinder:\n",
      "\n",
      "find_dates(text, source=False, index=False, strict=False, base_date=None)\n",
      "    Extract datetime strings from text\n",
      "    \n",
      "    :param text:\n",
      "        A string that contains one or more natural language or literal\n",
      "        datetime strings\n",
      "    :type text: str|unicode\n",
      "    :param source:\n",
      "        Return the original string segment\n",
      "    :type source: boolean\n",
      "    :param index:\n",
      "        Return the indices where the datetime string was located in text\n",
      "    :type index: boolean\n",
      "    :param strict:\n",
      "        Only return datetimes with complete date information. For example:\n",
      "        `July 2016` of `Monday` will not return datetimes.\n",
      "        `May 16, 2015` will return datetimes.\n",
      "    :type strict: boolean\n",
      "    :param base_date:\n",
      "        Set a default base datetime when parsing incomplete dates\n",
      "    :type base_date: datetime\n",
      "    \n",
      "    :return: Returns a generator that produces :mod:`datetime.datetime` objects,\n",
      "        or a tuple with the source text and index, if requested\n",
      "\n"
     ]
    }
   ],
   "source": [
    "help(datefinder.find_dates)"
   ]
  },
  {
   "cell_type": "markdown",
   "metadata": {},
   "source": [
    "We'll make a toy example with a text blob with our common use cases to see what happens"
   ]
  },
  {
   "cell_type": "code",
   "execution_count": 61,
   "metadata": {},
   "outputs": [
    {
     "name": "stdout",
     "output_type": "stream",
     "text": [
      "2000-10-01 00:00:00\n",
      "2010-02-12 00:00:00\n",
      "2020-03-11 00:00:00\n",
      "2005-03-03 00:00:00\n"
     ]
    }
   ],
   "source": [
    "import datefinder\n",
    "dates = [\"2000/10/01\", \"February 12 2010\", \"Around March 2020\", \"3rd of March 2005\"]\n",
    "for d in dates:\n",
    "    dates_found = datefinder.find_dates(d)\n",
    "    for i in dates_found:\n",
    "        print(i)"
   ]
  },
  {
   "cell_type": "markdown",
   "metadata": {},
   "source": [
    "Hmmm. These results aren't great. It doesn't handle imbiguity very well, and when it seems to fail around \"days,\" it seems to default to the 11th of the month.  \n",
    "\n",
    "Since there's not really any other options or functions to use, it looks like `datefinder` is out. "
   ]
  },
  {
   "cell_type": "markdown",
   "metadata": {},
   "source": [
    "## Next: `dateparser` \n",
    "We also can try to use `dateparser`, which sounds similar but seems to have way more options from its [documentation](https://dateparser.readthedocs.io/en/latest). Lets try it."
   ]
  },
  {
   "cell_type": "code",
   "execution_count": 13,
   "metadata": {},
   "outputs": [
    {
     "name": "stdout",
     "output_type": "stream",
     "text": [
      "('Tuesday 10/22 6:30 pm, and', datetime.datetime(2020, 10, 22, 18, 30))\n",
      "('April 2019', datetime.datetime(2019, 4, 22, 0, 0))\n",
      "('March 2020', datetime.datetime(2020, 3, 22, 0, 0))\n",
      "('3rd of March 2005', datetime.datetime(2005, 3, 3, 0, 0))\n"
     ]
    }
   ],
   "source": [
    "from dateparser.search import search_dates\n",
    "from dateparser import parse\n",
    "\n",
    "dates = search_dates('Central design committee session Tuesday 10/22 6:30 pm, and last April 2019, Around March 2020, 3rd of March 2005')\n",
    "for d in dates:\n",
    "    print(d)"
   ]
  },
  {
   "cell_type": "markdown",
   "metadata": {},
   "source": [
    "This parsing is kind of interesting, and the great thing about `dateparser` is it has settings we can specify. One in particular that seems useful is the ability to set defaults for incomplete or ambiguous dates. This would help us parse dates in the form of `YYYY-MM` or even in its plain text form, as above \"April 2019.\" "
   ]
  },
  {
   "cell_type": "code",
   "execution_count": 11,
   "metadata": {},
   "outputs": [
    {
     "name": "stdout",
     "output_type": "stream",
     "text": [
      "('April 2019', datetime.datetime(2019, 4, 1, 0, 0))\n",
      "('2017', datetime.datetime(2017, 4, 1, 0, 0))\n"
     ]
    }
   ],
   "source": [
    "ambig_dates = search_dates('April 2019, 2017', settings={'PREFER_DAY_OF_MONTH': 'first'})\n",
    "for d in ambig_dates:\n",
    "    print(d)"
   ]
  },
  {
   "cell_type": "markdown",
   "metadata": {},
   "source": [
    "As we can see in the output, instead of \"April 22\" as was parsed in our first example, since we specified `first` as a preferred day of the month, the day is now parsed as \"1\". This is exactly what we do in the frequent case where we are provided with just a month and a year.  \n",
    "\n",
    "### Formatting\n",
    "You may notice that the output has a lot of information, but is perhaps a bit awkwardly formatted. We should check the `type()` of data we're seeing, so we know how to process it into a better form."
   ]
  },
  {
   "cell_type": "code",
   "execution_count": 18,
   "metadata": {},
   "outputs": [
    {
     "name": "stdout",
     "output_type": "stream",
     "text": [
      "('April 2019', datetime.datetime(2019, 4, 1, 0, 0)) <class 'tuple'>\n",
      "('2017', datetime.datetime(2017, 4, 1, 0, 0)) <class 'tuple'>\n"
     ]
    }
   ],
   "source": [
    "ambig_dates = search_dates('April 2019, 2017', settings={'PREFER_DAY_OF_MONTH': 'first'})\n",
    "for d in ambig_dates:\n",
    "    print(d, type(d))"
   ]
  },
  {
   "cell_type": "markdown",
   "metadata": {},
   "source": [
    "Ah, tuples. We know that we can \"access\" tuple parts the same way we splice lists. It looks like there's two elements (thus \"**tu**ple!\"), which would mean we probably need the second item, accessed via `tuple[1]` Let's try to splice these dates and see what comes back."
   ]
  },
  {
   "cell_type": "code",
   "execution_count": 4,
   "metadata": {},
   "outputs": [
    {
     "name": "stdout",
     "output_type": "stream",
     "text": [
      "The original tuple form is: ('April 2019', datetime.datetime(2019, 4, 1, 0, 0)) \n",
      " The spliced version is: 2019-04-01 00:00:00\n",
      "The original tuple form is: ('2017', datetime.datetime(2017, 4, 1, 0, 0)) \n",
      " The spliced version is: 2017-04-01 00:00:00\n"
     ]
    }
   ],
   "source": [
    "ambig_dates = search_dates('April 2019, 2017', settings={'PREFER_DAY_OF_MONTH': 'first'})\n",
    "for d in ambig_dates:\n",
    "    print(\"The original tuple form is:\", d, \"\\n\", \"The spliced version is:\", d[1])"
   ]
  },
  {
   "cell_type": "code",
   "execution_count": 7,
   "metadata": {},
   "outputs": [
    {
     "name": "stdout",
     "output_type": "stream",
     "text": [
      "2019-04-30 00:00:00\n",
      "2017-02-28 00:00:00\n"
     ]
    }
   ],
   "source": [
    "ambig_dates = search_dates('April 2019, February 2017', settings={'PREFER_DAY_OF_MONTH': 'last'})\n",
    "for d in ambig_dates:\n",
    "    print(d[1])"
   ]
  },
  {
   "cell_type": "markdown",
   "metadata": {},
   "source": [
    "This is potentially very useful. We can now parse month-specific dates, in one case favoring the first of the month, then the last, which will give us the proper Begin/End dates such as `2017-02-01` / `2017-02-28` given `February 2017`. "
   ]
  },
  {
   "cell_type": "markdown",
   "metadata": {},
   "source": [
    "## Handling conditionals\n",
    "Now that we can deal with vague dates, we can start to compose a loop where we try to account for almost all date possibilities. Things we can't handle we'll just leave blank.  \n",
    "\n",
    "Speaking of, how will we handle blank date cells? Traditional Python ways like checking length via `len() == 0` might not work due to data types. Perhaps `pandas` will provide us with a way!"
   ]
  },
  {
   "cell_type": "code",
   "execution_count": 2,
   "metadata": {},
   "outputs": [],
   "source": [
    "import pandas as pd\n",
    "import os"
   ]
  },
  {
   "cell_type": "markdown",
   "metadata": {},
   "source": [
    "Let's see where we're at directory wise"
   ]
  },
  {
   "cell_type": "code",
   "execution_count": 4,
   "metadata": {},
   "outputs": [
    {
     "data": {
      "text/plain": [
       "'/home/zelgius/Github/metadata-work/documentation'"
      ]
     },
     "execution_count": 4,
     "metadata": {},
     "output_type": "execute_result"
    }
   ],
   "source": [
    "os.getcwd()"
   ]
  },
  {
   "cell_type": "markdown",
   "metadata": {},
   "source": [
    "We'll change into our `/test` directory to use those nice test sheets"
   ]
  },
  {
   "cell_type": "code",
   "execution_count": 7,
   "metadata": {},
   "outputs": [
    {
     "data": {
      "text/plain": [
       "['catalhoyuk_glimpse_v2_delimiters.xlsx',\n",
       " 'double_spaces.csv',\n",
       " 'untrimmed_spaces.xlsx',\n",
       " 'double_spaces.xlsx',\n",
       " '.ipynb_checkpoints',\n",
       " 'untrimmed_spaces.csv']"
      ]
     },
     "execution_count": 7,
     "metadata": {},
     "output_type": "execute_result"
    }
   ],
   "source": [
    "os.chdir(\"../test/\")\n",
    "os.listdir()"
   ]
  },
  {
   "cell_type": "code",
   "execution_count": 8,
   "metadata": {},
   "outputs": [],
   "source": [
    "dates_df = pd.read_excel('double_spaces.xlsx')"
   ]
  },
  {
   "cell_type": "code",
   "execution_count": 9,
   "metadata": {},
   "outputs": [
    {
     "data": {
      "text/html": [
       "<div>\n",
       "<style scoped>\n",
       "    .dataframe tbody tr th:only-of-type {\n",
       "        vertical-align: middle;\n",
       "    }\n",
       "\n",
       "    .dataframe tbody tr th {\n",
       "        vertical-align: top;\n",
       "    }\n",
       "\n",
       "    .dataframe thead th {\n",
       "        text-align: right;\n",
       "    }\n",
       "</style>\n",
       "<table border=\"1\" class=\"dataframe\">\n",
       "  <thead>\n",
       "    <tr style=\"text-align: right;\">\n",
       "      <th></th>\n",
       "      <th>Object Unique ID</th>\n",
       "      <th>Level</th>\n",
       "      <th>File name</th>\n",
       "      <th>File use</th>\n",
       "      <th>Type of Resource</th>\n",
       "      <th>Language</th>\n",
       "      <th>Title</th>\n",
       "      <th>Person:Creator</th>\n",
       "      <th>Person:Choreographer</th>\n",
       "      <th>Person:Composer</th>\n",
       "      <th>...</th>\n",
       "      <th>End date</th>\n",
       "      <th>Note:description</th>\n",
       "      <th>Subject:topic</th>\n",
       "      <th>Subject:personal name</th>\n",
       "      <th>Subject:geographic</th>\n",
       "      <th>Related resource:related</th>\n",
       "      <th>Access granted</th>\n",
       "      <th>Copyright status</th>\n",
       "      <th>Copyright holder</th>\n",
       "      <th>CC license</th>\n",
       "    </tr>\n",
       "  </thead>\n",
       "  <tbody>\n",
       "    <tr>\n",
       "      <th>0</th>\n",
       "      <td>1</td>\n",
       "      <td>Object</td>\n",
       "      <td>NaN</td>\n",
       "      <td>NaN</td>\n",
       "      <td>moving image | still image</td>\n",
       "      <td>eng  - English</td>\n",
       "      <td>St. Francis  de los  Barrios</td>\n",
       "      <td>NaN</td>\n",
       "      <td>NaN</td>\n",
       "      <td>Waters, Joseph</td>\n",
       "      <td>...</td>\n",
       "      <td>NaN</td>\n",
       "      <td>An indie-class, trans-genre rock opera based o...</td>\n",
       "      <td>Opera | Transgender sex workers</td>\n",
       "      <td>Saint Francis of Assisi | Pope Francis</td>\n",
       "      <td>Tijuana (Baja California, Mexico) | Zona Norte...</td>\n",
       "      <td>IDEAS Performance Photographs via Flickr @ htt...</td>\n",
       "      <td>NaN</td>\n",
       "      <td>NaN</td>\n",
       "      <td>NaN</td>\n",
       "      <td>NaN</td>\n",
       "    </tr>\n",
       "    <tr>\n",
       "      <th>1</th>\n",
       "      <td>1</td>\n",
       "      <td>Component</td>\n",
       "      <td>IdeasStFrancis_2017_12_06_HQ.mp4</td>\n",
       "      <td>video-source</td>\n",
       "      <td>NaN</td>\n",
       "      <td>NaN</td>\n",
       "      <td>Program</td>\n",
       "      <td>NaN</td>\n",
       "      <td>NaN</td>\n",
       "      <td>NaN</td>\n",
       "      <td>...</td>\n",
       "      <td>NaN</td>\n",
       "      <td>NaN</td>\n",
       "      <td>NaN</td>\n",
       "      <td>NaN</td>\n",
       "      <td>NaN</td>\n",
       "      <td>NaN</td>\n",
       "      <td>NaN</td>\n",
       "      <td>NaN</td>\n",
       "      <td>NaN</td>\n",
       "      <td>NaN</td>\n",
       "    </tr>\n",
       "    <tr>\n",
       "      <th>2</th>\n",
       "      <td>1</td>\n",
       "      <td>Component</td>\n",
       "      <td>IDEAS_St_Francis_de_los_Barrios_01_of_88.jpg</td>\n",
       "      <td>image-source</td>\n",
       "      <td>NaN</td>\n",
       "      <td>NaN</td>\n",
       "      <td>Image 1</td>\n",
       "      <td>NaN</td>\n",
       "      <td>NaN</td>\n",
       "      <td>NaN</td>\n",
       "      <td>...</td>\n",
       "      <td>NaN</td>\n",
       "      <td>NaN</td>\n",
       "      <td>NaN</td>\n",
       "      <td>NaN</td>\n",
       "      <td>NaN</td>\n",
       "      <td>NaN</td>\n",
       "      <td>NaN</td>\n",
       "      <td>NaN</td>\n",
       "      <td>NaN</td>\n",
       "      <td>NaN</td>\n",
       "    </tr>\n",
       "    <tr>\n",
       "      <th>3</th>\n",
       "      <td>1</td>\n",
       "      <td>Component</td>\n",
       "      <td>IDEAS_St_Francis_de_los_Barrios_02_of_88.jpg</td>\n",
       "      <td>image-source</td>\n",
       "      <td>NaN</td>\n",
       "      <td>NaN</td>\n",
       "      <td>Image 2</td>\n",
       "      <td>NaN</td>\n",
       "      <td>NaN</td>\n",
       "      <td>NaN</td>\n",
       "      <td>...</td>\n",
       "      <td>NaN</td>\n",
       "      <td>NaN</td>\n",
       "      <td>NaN</td>\n",
       "      <td>NaN</td>\n",
       "      <td>NaN</td>\n",
       "      <td>NaN</td>\n",
       "      <td>NaN</td>\n",
       "      <td>NaN</td>\n",
       "      <td>NaN</td>\n",
       "      <td>NaN</td>\n",
       "    </tr>\n",
       "    <tr>\n",
       "      <th>4</th>\n",
       "      <td>1</td>\n",
       "      <td>Component</td>\n",
       "      <td>IDEAS_St_Francis_de_los_Barrios_03_of_88.jpg</td>\n",
       "      <td>image-source</td>\n",
       "      <td>NaN</td>\n",
       "      <td>NaN</td>\n",
       "      <td>Image 3</td>\n",
       "      <td>NaN</td>\n",
       "      <td>NaN</td>\n",
       "      <td>NaN</td>\n",
       "      <td>...</td>\n",
       "      <td>NaN</td>\n",
       "      <td>NaN</td>\n",
       "      <td>NaN</td>\n",
       "      <td>NaN</td>\n",
       "      <td>NaN</td>\n",
       "      <td>NaN</td>\n",
       "      <td>NaN</td>\n",
       "      <td>NaN</td>\n",
       "      <td>NaN</td>\n",
       "      <td>NaN</td>\n",
       "    </tr>\n",
       "  </tbody>\n",
       "</table>\n",
       "<p>5 rows × 28 columns</p>\n",
       "</div>"
      ],
      "text/plain": [
       "   Object Unique ID      Level                                     File name  \\\n",
       "0                 1     Object                                           NaN   \n",
       "1                 1  Component              IdeasStFrancis_2017_12_06_HQ.mp4   \n",
       "2                 1  Component  IDEAS_St_Francis_de_los_Barrios_01_of_88.jpg   \n",
       "3                 1  Component  IDEAS_St_Francis_de_los_Barrios_02_of_88.jpg   \n",
       "4                 1  Component  IDEAS_St_Francis_de_los_Barrios_03_of_88.jpg   \n",
       "\n",
       "       File use            Type of Resource         Language  \\\n",
       "0           NaN  moving image | still image  eng  - English    \n",
       "1  video-source                         NaN              NaN   \n",
       "2  image-source                         NaN              NaN   \n",
       "3  image-source                         NaN              NaN   \n",
       "4  image-source                         NaN              NaN   \n",
       "\n",
       "                           Title Person:Creator Person:Choreographer  \\\n",
       "0  St. Francis  de los  Barrios             NaN                  NaN   \n",
       "1                        Program            NaN                  NaN   \n",
       "2                        Image 1            NaN                  NaN   \n",
       "3                        Image 2            NaN                  NaN   \n",
       "4                        Image 3            NaN                  NaN   \n",
       "\n",
       "  Person:Composer  ... End date  \\\n",
       "0  Waters, Joseph  ...      NaN   \n",
       "1             NaN  ...      NaN   \n",
       "2             NaN  ...      NaN   \n",
       "3             NaN  ...      NaN   \n",
       "4             NaN  ...      NaN   \n",
       "\n",
       "                                    Note:description  \\\n",
       "0  An indie-class, trans-genre rock opera based o...   \n",
       "1                                                NaN   \n",
       "2                                                NaN   \n",
       "3                                                NaN   \n",
       "4                                                NaN   \n",
       "\n",
       "                     Subject:topic                   Subject:personal name  \\\n",
       "0  Opera | Transgender sex workers  Saint Francis of Assisi | Pope Francis   \n",
       "1                              NaN                                     NaN   \n",
       "2                              NaN                                     NaN   \n",
       "3                              NaN                                     NaN   \n",
       "4                              NaN                                     NaN   \n",
       "\n",
       "                                  Subject:geographic  \\\n",
       "0  Tijuana (Baja California, Mexico) | Zona Norte...   \n",
       "1                                                NaN   \n",
       "2                                                NaN   \n",
       "3                                                NaN   \n",
       "4                                                NaN   \n",
       "\n",
       "                            Related resource:related Access granted  \\\n",
       "0  IDEAS Performance Photographs via Flickr @ htt...            NaN   \n",
       "1                                                NaN            NaN   \n",
       "2                                                NaN            NaN   \n",
       "3                                                NaN            NaN   \n",
       "4                                                NaN            NaN   \n",
       "\n",
       "   Copyright status  Copyright holder CC license  \n",
       "0               NaN               NaN        NaN  \n",
       "1               NaN               NaN        NaN  \n",
       "2               NaN               NaN        NaN  \n",
       "3               NaN               NaN        NaN  \n",
       "4               NaN               NaN        NaN  \n",
       "\n",
       "[5 rows x 28 columns]"
      ]
     },
     "execution_count": 9,
     "metadata": {},
     "output_type": "execute_result"
    }
   ],
   "source": [
    "dates_df.head()"
   ]
  },
  {
   "cell_type": "markdown",
   "metadata": {},
   "source": [
    "Now, we have our existing loop which you can see in the next cell. Basically, it will make two lists, one for `Begin date`, and one for `End date`. In day-specific dates (like \"2018-03-04\"), both values in both lists will be the same.  \n",
    "\n",
    "For vague dates, like \"February 2018\", the `Begin date` is 2018-02-01, while the `End date` would be 2018-02-28. Now you see why the above `dateparser` settings can really help us parse dates like these.  \n",
    "\n",
    "For blank cells, as mentioned we cannot simply check the length of a cell. We need to use a `pandas` function like `pd.isnull()`. See below how we check for that, and if it is null, we simply add blanks for those cells"
   ]
  },
  {
   "cell_type": "code",
   "execution_count": 29,
   "metadata": {},
   "outputs": [],
   "source": [
    "date_begin = []\n",
    "date_end = []\n",
    "columns = dates_df.columns\n",
    "for column in columns:\n",
    "    if column.lower().startswith(\"date\"):\n",
    "        for row in dates_df[column]:\n",
    "            if len(str(row)) == 4:\n",
    "                date_begin.append(str(row) + \"-01-01\")\n",
    "                date_end.append(str(row) + \"-12-31\")\n",
    "            elif len(str(row)) == 10:\n",
    "                date_begin.append(str(row))\n",
    "                date_end.append(str(row))\n",
    "            elif pd.isnull(row) == True:\n",
    "                date_begin.append(str(row) + \"\")\n",
    "                date_end.append(str(row) + \"\")\n",
    "            else:\n",
    "                parsed_begin = parse(str(row), settings={'PREFER_DAY_OF_MONTH': 'first'})\n",
    "                parsed_end = parse(str(row), settings={'PREFER_DAY_OF_MONTH': 'last'})\n",
    "                date_begin.append(str(parsed_begin))\n",
    "                date_end.append(str(parsed_end))\n",
    "dates_df['Begin date'] = date_begin\n",
    "dates_df['End date'] = date_end       "
   ]
  },
  {
   "cell_type": "code",
   "execution_count": 31,
   "metadata": {},
   "outputs": [
    {
     "data": {
      "text/plain": [
       "0      2017-12-06 00:00:00\n",
       "1                      nan\n",
       "2                      nan\n",
       "3                      nan\n",
       "4                      nan\n",
       "              ...         \n",
       "532                    nan\n",
       "533                    nan\n",
       "534                    nan\n",
       "535                    nan\n",
       "536                    nan\n",
       "Name: Begin date, Length: 537, dtype: object"
      ]
     },
     "execution_count": 31,
     "metadata": {},
     "output_type": "execute_result"
    }
   ],
   "source": [
    "begin_dates = dates_df['Begin date']\n",
    "begin_dates"
   ]
  },
  {
   "cell_type": "code",
   "execution_count": 19,
   "metadata": {},
   "outputs": [
    {
     "data": {
      "text/plain": [
       "0      2017-12-06 00:00:00\n",
       "1      2020-08-31 00:00:00\n",
       "2      2020-08-31 00:00:00\n",
       "3      2020-08-31 00:00:00\n",
       "4      2020-08-31 00:00:00\n",
       "              ...         \n",
       "532    2020-08-31 00:00:00\n",
       "533    2020-08-31 00:00:00\n",
       "534    2020-08-31 00:00:00\n",
       "535    2020-08-31 00:00:00\n",
       "536    2020-08-31 00:00:00\n",
       "Name: End date, Length: 537, dtype: object"
      ]
     },
     "execution_count": 19,
     "metadata": {},
     "output_type": "execute_result"
    }
   ],
   "source": [
    "dates_df['End date']"
   ]
  },
  {
   "cell_type": "code",
   "execution_count": null,
   "metadata": {},
   "outputs": [],
   "source": []
  }
 ],
 "metadata": {
  "kernelspec": {
   "display_name": "Python 3",
   "language": "python",
   "name": "python3"
  },
  "language_info": {
   "codemirror_mode": {
    "name": "ipython",
    "version": 3
   },
   "file_extension": ".py",
   "mimetype": "text/x-python",
   "name": "python",
   "nbconvert_exporter": "python",
   "pygments_lexer": "ipython3",
   "version": "3.7.3"
  }
 },
 "nbformat": 4,
 "nbformat_minor": 4
}
